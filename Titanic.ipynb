{
 "cells": [
  {
   "cell_type": "markdown",
   "metadata": {},
   "source": [
    "# Titanic: Machine Learning from Disaster"
   ]
  },
  {
   "cell_type": "markdown",
   "metadata": {},
   "source": [
    "The sinking of the RMS Titanic is one of the most infamous shipwrecks in history.  On April 15, 1912, during her maiden voyage, the Titanic sank after colliding with an iceberg, killing 1502 out of 2224 passengers and crew. This sensational tragedy shocked the international community and led to better safety regulations for ships.\n",
    "\n",
    "In this challenge, we ask you to complete the analysis of what sorts of people were likely to survive. In particular, we ask you to apply the tools of machine learning to predict which passengers survived the tragedy."
   ]
  },
  {
   "cell_type": "markdown",
   "metadata": {},
   "source": [
    "A comparison between several machine learning algorithms is presented:\n",
    "Logistic regression,\n",
    "Decision Tree Classifier,\n",
    "KNN classifier,\n",
    "Random Forest classifier,"
   ]
  },
  {
   "cell_type": "markdown",
   "metadata": {},
   "source": [
    "### Data exploration "
   ]
  },
  {
   "cell_type": "code",
   "execution_count": 1,
   "metadata": {
    "collapsed": false
   },
   "outputs": [
    {
     "name": "stdout",
     "output_type": "stream",
     "text": [
      "PassengerId      0\n",
      "Survived         0\n",
      "Pclass           0\n",
      "Name             0\n",
      "Sex              0\n",
      "Age            177\n",
      "SibSp            0\n",
      "Parch            0\n",
      "Ticket           0\n",
      "Fare             0\n",
      "Cabin          687\n",
      "Embarked         2\n",
      "dtype: int64\n",
      "Number of survivors: 342\n",
      "Number of deaths: 549\n",
      "Survival rate: 38.38 % \n"
     ]
    }
   ],
   "source": [
    "#imports\n",
    "import pandas as pd\n",
    "import numpy as np\n",
    "import seaborn as sns\n",
    "sns.set_style(\"whitegrid\")\n",
    "from sklearn.cross_validation import train_test_split\n",
    "from sklearn.preprocessing import LabelEncoder\n",
    "from sklearn.preprocessing import OneHotEncoder\n",
    "from __future__ import division\n",
    "from sklearn.preprocessing import StandardScaler\n",
    "from sklearn.learning_curve import learning_curve\n",
    "from sklearn.learning_curve import validation_curve\n",
    "from sklearn.tree import DecisionTreeClassifier\n",
    "from sklearn.ensemble import RandomForestClassifier\n",
    "from sklearn.linear_model import LogisticRegression\n",
    "from sklearn.cross_validation import cross_val_score\n",
    "from sklearn.metrics import accuracy_score\n",
    "import matplotlib.pyplot as plt\n",
    "%matplotlib inline\n",
    "\n",
    "#Load data\n",
    "df_titanic_train = pd.read_csv('train.csv')\n",
    "df_titanic_test = pd.read_csv('test.csv')\n",
    "#How many NaN by columns in training set\n",
    "print df_titanic_train.isnull().sum()\n",
    "#Survivors in training set\n",
    "deaths, sur  = np.bincount(df_titanic_train['Survived'].values)\n",
    "print 'Number of survivors: %d' % sur\n",
    "print 'Number of deaths: %d' % deaths\n",
    "print 'Survival rate: %.2f %% ' % (100*sur/(sur+deaths))"
   ]
  },
  {
   "cell_type": "markdown",
   "metadata": {},
   "source": [
    "##### Categorical data\n"
   ]
  },
  {
   "cell_type": "markdown",
   "metadata": {},
   "source": [
    "#### Titles"
   ]
  },
  {
   "cell_type": "code",
   "execution_count": 3,
   "metadata": {
    "collapsed": false
   },
   "outputs": [],
   "source": [
    "#Training set\n",
    "title = []\n",
    "titles = ['Mr.', 'Miss.', 'Mrs.', 'Master.', 'Don.', 'Rev.', 'Dr.', 'Col.','Major.', 'Mme.', 'Ms.', 'Mlle.',\n",
    "          'Lady.','Sir.','Capt.','the Countess. of', 'Jonkheer.','Dona.']\n",
    "\n",
    "unique_titles = ['Capt.','the Countess. of', 'Jonkheer.', 'Sir.']\n",
    "\n",
    "for i in df_titanic_train['Name']:\n",
    "    for word in titles:\n",
    "        if word in i:\n",
    "            title.append(word)\n",
    "\n",
    "\n",
    "for i,j in enumerate(title):\n",
    "    if j in unique_titles:\n",
    "        title[i] = 'unique'\n",
    "    elif j == 'Mlle.':\n",
    "        title[i] = 'Miss.'\n",
    "    elif j == 'Lady.':\n",
    "        title[i] = 'Miss.'\n",
    "    elif j == 'Ms.':\n",
    "        title[i] = 'Miss.'\n",
    "    elif j == 'Mme.':\n",
    "        title[i] = 'Mrs.'\n",
    "    elif j == 'Dona.':\n",
    "        title[i] = 'Mrs.'\n",
    "    elif j == 'Don.':\n",
    "        title[i] = 'Mr.'\n",
    "        \n",
    "df_titanic_train['title'] = title"
   ]
  },
  {
   "cell_type": "code",
   "execution_count": 4,
   "metadata": {
    "collapsed": false
   },
   "outputs": [],
   "source": [
    "#Test set\n",
    "title = []\n",
    "\n",
    "for i in df_titanic_test['Name']:\n",
    "    for word in titles:\n",
    "        if word in i:\n",
    "            title.append(word)\n",
    "\n",
    "\n",
    "for i,j in enumerate(title):\n",
    "    if j in unique_titles:\n",
    "        title[i] = 'unique'\n",
    "    elif j == 'Mlle.':\n",
    "        title[i] = 'Miss.'\n",
    "    elif j == 'Lady.':\n",
    "        title[i] = 'Miss.'\n",
    "    elif j == 'Ms.':\n",
    "        title[i] = 'Miss.'\n",
    "    elif j == 'Mme.':\n",
    "        title[i] = 'Mrs.'\n",
    "    elif j == 'Dona.':\n",
    "        title[i] = 'Mrs.'\n",
    "    elif j == 'Don.':\n",
    "        title[i] = 'Mr.'\n",
    "\n",
    "df_titanic_test['title'] = title"
   ]
  },
  {
   "cell_type": "code",
   "execution_count": 5,
   "metadata": {
    "collapsed": false
   },
   "outputs": [
    {
     "data": {
      "text/html": [
       "<div>\n",
       "<table border=\"1\" class=\"dataframe\">\n",
       "  <thead>\n",
       "    <tr style=\"text-align: right;\">\n",
       "      <th></th>\n",
       "      <th>PassengerId</th>\n",
       "      <th>Pclass</th>\n",
       "      <th>Name</th>\n",
       "      <th>Sex</th>\n",
       "      <th>Age</th>\n",
       "      <th>SibSp</th>\n",
       "      <th>Parch</th>\n",
       "      <th>Ticket</th>\n",
       "      <th>Fare</th>\n",
       "      <th>Cabin</th>\n",
       "      <th>Embarked</th>\n",
       "      <th>title</th>\n",
       "    </tr>\n",
       "  </thead>\n",
       "  <tbody>\n",
       "    <tr>\n",
       "      <th>0</th>\n",
       "      <td>892</td>\n",
       "      <td>3</td>\n",
       "      <td>Kelly, Mr. James</td>\n",
       "      <td>male</td>\n",
       "      <td>34.5</td>\n",
       "      <td>0</td>\n",
       "      <td>0</td>\n",
       "      <td>330911</td>\n",
       "      <td>7.8292</td>\n",
       "      <td>NaN</td>\n",
       "      <td>Q</td>\n",
       "      <td>Mr.</td>\n",
       "    </tr>\n",
       "    <tr>\n",
       "      <th>1</th>\n",
       "      <td>893</td>\n",
       "      <td>3</td>\n",
       "      <td>Wilkes, Mrs. James (Ellen Needs)</td>\n",
       "      <td>female</td>\n",
       "      <td>47.0</td>\n",
       "      <td>1</td>\n",
       "      <td>0</td>\n",
       "      <td>363272</td>\n",
       "      <td>7.0000</td>\n",
       "      <td>NaN</td>\n",
       "      <td>S</td>\n",
       "      <td>Mrs.</td>\n",
       "    </tr>\n",
       "    <tr>\n",
       "      <th>2</th>\n",
       "      <td>894</td>\n",
       "      <td>2</td>\n",
       "      <td>Myles, Mr. Thomas Francis</td>\n",
       "      <td>male</td>\n",
       "      <td>62.0</td>\n",
       "      <td>0</td>\n",
       "      <td>0</td>\n",
       "      <td>240276</td>\n",
       "      <td>9.6875</td>\n",
       "      <td>NaN</td>\n",
       "      <td>Q</td>\n",
       "      <td>Mr.</td>\n",
       "    </tr>\n",
       "    <tr>\n",
       "      <th>3</th>\n",
       "      <td>895</td>\n",
       "      <td>3</td>\n",
       "      <td>Wirz, Mr. Albert</td>\n",
       "      <td>male</td>\n",
       "      <td>27.0</td>\n",
       "      <td>0</td>\n",
       "      <td>0</td>\n",
       "      <td>315154</td>\n",
       "      <td>8.6625</td>\n",
       "      <td>NaN</td>\n",
       "      <td>S</td>\n",
       "      <td>Mr.</td>\n",
       "    </tr>\n",
       "    <tr>\n",
       "      <th>4</th>\n",
       "      <td>896</td>\n",
       "      <td>3</td>\n",
       "      <td>Hirvonen, Mrs. Alexander (Helga E Lindqvist)</td>\n",
       "      <td>female</td>\n",
       "      <td>22.0</td>\n",
       "      <td>1</td>\n",
       "      <td>1</td>\n",
       "      <td>3101298</td>\n",
       "      <td>12.2875</td>\n",
       "      <td>NaN</td>\n",
       "      <td>S</td>\n",
       "      <td>Mrs.</td>\n",
       "    </tr>\n",
       "  </tbody>\n",
       "</table>\n",
       "</div>"
      ],
      "text/plain": [
       "   PassengerId  Pclass                                          Name     Sex  \\\n",
       "0          892       3                              Kelly, Mr. James    male   \n",
       "1          893       3              Wilkes, Mrs. James (Ellen Needs)  female   \n",
       "2          894       2                     Myles, Mr. Thomas Francis    male   \n",
       "3          895       3                              Wirz, Mr. Albert    male   \n",
       "4          896       3  Hirvonen, Mrs. Alexander (Helga E Lindqvist)  female   \n",
       "\n",
       "    Age  SibSp  Parch   Ticket     Fare Cabin Embarked title  \n",
       "0  34.5      0      0   330911   7.8292   NaN        Q   Mr.  \n",
       "1  47.0      1      0   363272   7.0000   NaN        S  Mrs.  \n",
       "2  62.0      0      0   240276   9.6875   NaN        Q   Mr.  \n",
       "3  27.0      0      0   315154   8.6625   NaN        S   Mr.  \n",
       "4  22.0      1      1  3101298  12.2875   NaN        S  Mrs.  "
      ]
     },
     "execution_count": 5,
     "metadata": {},
     "output_type": "execute_result"
    }
   ],
   "source": [
    "df_titanic_test.head()"
   ]
  },
  {
   "cell_type": "code",
   "execution_count": 6,
   "metadata": {
    "collapsed": false,
    "scrolled": false
   },
   "outputs": [
    {
     "name": "stdout",
     "output_type": "stream",
     "text": [
      "male      577\n",
      "female    314\n",
      "Name: Sex, dtype: int64 \n",
      "\n",
      "S    644\n",
      "C    168\n",
      "Q     77\n",
      "Name: Embarked, dtype: int64 \n",
      "\n",
      "0    608\n",
      "1    209\n",
      "2     28\n",
      "4     18\n",
      "3     16\n",
      "8      7\n",
      "5      5\n",
      "Name: SibSp, dtype: int64 \n",
      "\n",
      "0    678\n",
      "1    118\n",
      "2     80\n",
      "5      5\n",
      "3      5\n",
      "4      4\n",
      "6      1\n",
      "Name: Parch, dtype: int64 \n",
      "\n"
     ]
    }
   ],
   "source": [
    "print df_titanic_train['Sex'].value_counts(), '\\n'\n",
    "print df_titanic_train['Embarked'].value_counts() , '\\n'\n",
    "print df_titanic_train['SibSp'].value_counts() , '\\n'\n",
    "print df_titanic_train['Parch'].value_counts() , '\\n'"
   ]
  },
  {
   "cell_type": "code",
   "execution_count": 7,
   "metadata": {
    "collapsed": false
   },
   "outputs": [],
   "source": [
    "#A fare value in the test set is missing\n",
    "df_test_3class = df_titanic_test[(df_titanic_test['Pclass']==3)]\n",
    "avg_fare = np.mean(df_test_3class['Fare'])\n",
    "std_fare = np.std(df_test_3class['Fare'])\n",
    "df_titanic_test.loc[pd.isnull(df_titanic_test['Fare']),'Fare'] = np.random.uniform(avg_fare - std_fare, avg_fare + std_fare) "
   ]
  },
  {
   "cell_type": "markdown",
   "metadata": {},
   "source": [
    "#### Averages, box plot"
   ]
  },
  {
   "cell_type": "code",
   "execution_count": 8,
   "metadata": {
    "collapsed": false,
    "scrolled": true
   },
   "outputs": [
    {
     "name": "stdout",
     "output_type": "stream",
     "text": [
      "Average of Number of Siblings/Spouses: 0.52\n",
      "Average of Number of Parents/Children: 0.38\n",
      "Average Fare: 32.20\n",
      "Average Age: 29.70 \n",
      "\n"
     ]
    },
    {
     "data": {
      "text/plain": [
       "<matplotlib.axes._subplots.AxesSubplot at 0x7f2b81a24090>"
      ]
     },
     "execution_count": 8,
     "metadata": {},
     "output_type": "execute_result"
    },
    {
     "data": {
      "image/png": "[encoded data removed]",
      "text/plain": [
       "<matplotlib.figure.Figure at 0x7f2b859288d0>"
      ]
     },
     "metadata": {},
     "output_type": "display_data"
    }
   ],
   "source": [
    "\n",
    "import seaborn as sns\n",
    "sns.set_style(\"whitegrid\")\n",
    "\n",
    "#Averages\n",
    "print 'Average of Number of Siblings/Spouses: %.2f' % np.mean(df_titanic_train['SibSp'].values)\n",
    "print 'Average of Number of Parents/Children: %.2f' % np.mean(df_titanic_train['Parch'].values)\n",
    "print 'Average Fare: %.2f' % np.mean(df_titanic_train['Fare'].values)\n",
    "print 'Average Age: %.2f' % np.mean(df_titanic_train['Age'][pd.notnull(df_titanic_train['Age'].values)]), '\\n'\n",
    "\n",
    "\n",
    "#Drop 3 outliers \n",
    "df_titanic_train.drop(df_titanic_train.index[[np.argmax(df_titanic_train['Fare'].values)]], inplace=True)\n",
    "df_titanic_train.drop(df_titanic_train.index[[np.argmax(df_titanic_train['Fare'].values)]], inplace=True)\n",
    "df_titanic_train.drop(df_titanic_train.index[[np.argmax(df_titanic_train['Fare'].values)]], inplace=True)\n",
    "\n",
    "f, ((ax, ax1, ax2), (ax3, ax4, ax5)) = plt.subplots(2,3,figsize=(20,10))\n",
    "sns.boxplot(x='Sex', y='Fare',hue='Survived', data=df_titanic_train, ax=ax)\n",
    "sns.boxplot(x='Embarked', y='Fare', hue='Survived', data=df_titanic_train, ax=ax1)\n",
    "sns.boxplot(x='Pclass', y='Fare', hue='Survived', data=df_titanic_train, ax=ax2)\n",
    "\n",
    "#Subgroup Age != NaN\n",
    "df_titanic_age = df_titanic_train[pd.notnull(df_titanic_train['Age'])]\n",
    "sns.boxplot(x='Embarked', y='Age', hue='Survived', data=df_titanic_age, ax=ax3)\n",
    "sns.boxplot(x='Sex', y='Age', hue='Survived', data=df_titanic_age, ax=ax4)\n",
    "sns.boxplot(x='Pclass', y='Age', hue='Survived', data=df_titanic_age, ax=ax5)\n"
   ]
  },
  {
   "cell_type": "markdown",
   "metadata": {},
   "source": [
    "#### Predicting age"
   ]
  },
  {
   "cell_type": "code",
   "execution_count": 9,
   "metadata": {
    "collapsed": false,
    "scrolled": true
   },
   "outputs": [
    {
     "data": {
      "image/png": "[encoded data removed]",
      "text/plain": [
       "<matplotlib.figure.Figure at 0x7f2b81cdc110>"
      ]
     },
     "metadata": {},
     "output_type": "display_data"
    }
   ],
   "source": [
    "#Original age histogram\n",
    "\n",
    "hist, bins = np.histogram(df_titanic_age['Age'].values, bins=50)\n",
    "width = 0.7 * (bins[1] - bins[0])\n",
    "center = (bins[:-1] + bins[1:]) / 2\n",
    "plt.bar(center, hist, align='center', width=width)\n",
    "plt.xlabel('Age')\n",
    "plt.ylabel('Density')\n",
    "plt.show()"
   ]
  },
  {
   "cell_type": "code",
   "execution_count": 10,
   "metadata": {
    "collapsed": false
   },
   "outputs": [],
   "source": [
    "#Assigning random age within mean and std\n",
    "\n",
    "avg_age = np.mean(df_titanic_train['Age'][pd.notnull(df_titanic_train['Age'].values)])\n",
    "std_age = np.std(df_titanic_train['Age'][pd.notnull(df_titanic_train['Age'].values)])\n",
    "rand_age = np.random.randint(avg_age - std_age, avg_age + std_age, \n",
    "                             size = np.size(df_titanic_train['Age'][pd.isnull(df_titanic_train['Age'].values)]) ) \n",
    "df_titanic_train.loc[pd.isnull(df_titanic_train['Age']),'Age'] = rand_age\n",
    "\n",
    "#For test set\n",
    "avg_age_test = np.mean(df_titanic_test['Age'][pd.notnull(df_titanic_test['Age'].values)])\n",
    "std_age_test = np.std(df_titanic_test['Age'][pd.notnull(df_titanic_test['Age'].values)])\n",
    "rand_age_test = np.random.randint(avg_age_test - std_age_test, avg_age_test + std_age_test, \n",
    "                             size = np.size(df_titanic_test['Age'][pd.isnull(df_titanic_test['Age'].values)]) ) \n",
    "df_titanic_test.loc[pd.isnull(df_titanic_test['Age']),'Age'] = rand_age_test\n"
   ]
  },
  {
   "cell_type": "code",
   "execution_count": 11,
   "metadata": {
    "collapsed": false
   },
   "outputs": [
    {
     "data": {
      "image/png": "[encoded data removed]",
      "text/plain": [
       "<matplotlib.figure.Figure at 0x7f2b80f3a490>"
      ]
     },
     "metadata": {},
     "output_type": "display_data"
    }
   ],
   "source": [
    "#New age histogram with random values\n",
    "\n",
    "hist, bins = np.histogram(df_titanic_age['Age'].values, bins=50)\n",
    "width = 0.7 * (bins[1] - bins[0])\n",
    "center = (bins[:-1] + bins[1:]) / 2\n",
    "plt.bar(center, hist, align='center', width=width)\n",
    "plt.xlabel('Age')\n",
    "plt.ylabel('Density')\n",
    "plt.show()"
   ]
  },
  {
   "cell_type": "code",
   "execution_count": 12,
   "metadata": {
    "collapsed": false,
    "scrolled": true
   },
   "outputs": [
    {
     "name": "stdout",
     "output_type": "stream",
     "text": [
      "(886, 10)\n"
     ]
    },
    {
     "data": {
      "text/html": [
       "<div>\n",
       "<table border=\"1\" class=\"dataframe\">\n",
       "  <thead>\n",
       "    <tr style=\"text-align: right;\">\n",
       "      <th></th>\n",
       "      <th>PassengerId</th>\n",
       "      <th>Survived</th>\n",
       "      <th>Pclass</th>\n",
       "      <th>Sex</th>\n",
       "      <th>Age</th>\n",
       "      <th>SibSp</th>\n",
       "      <th>Parch</th>\n",
       "      <th>Fare</th>\n",
       "      <th>Embarked</th>\n",
       "      <th>title</th>\n",
       "    </tr>\n",
       "  </thead>\n",
       "  <tbody>\n",
       "    <tr>\n",
       "      <th>886</th>\n",
       "      <td>887</td>\n",
       "      <td>0</td>\n",
       "      <td>2</td>\n",
       "      <td>male</td>\n",
       "      <td>27.0</td>\n",
       "      <td>0</td>\n",
       "      <td>0</td>\n",
       "      <td>13.00</td>\n",
       "      <td>S</td>\n",
       "      <td>Rev.</td>\n",
       "    </tr>\n",
       "    <tr>\n",
       "      <th>887</th>\n",
       "      <td>888</td>\n",
       "      <td>1</td>\n",
       "      <td>1</td>\n",
       "      <td>female</td>\n",
       "      <td>19.0</td>\n",
       "      <td>0</td>\n",
       "      <td>0</td>\n",
       "      <td>30.00</td>\n",
       "      <td>S</td>\n",
       "      <td>Miss.</td>\n",
       "    </tr>\n",
       "    <tr>\n",
       "      <th>888</th>\n",
       "      <td>889</td>\n",
       "      <td>0</td>\n",
       "      <td>3</td>\n",
       "      <td>female</td>\n",
       "      <td>17.0</td>\n",
       "      <td>1</td>\n",
       "      <td>2</td>\n",
       "      <td>23.45</td>\n",
       "      <td>S</td>\n",
       "      <td>Miss.</td>\n",
       "    </tr>\n",
       "    <tr>\n",
       "      <th>889</th>\n",
       "      <td>890</td>\n",
       "      <td>1</td>\n",
       "      <td>1</td>\n",
       "      <td>male</td>\n",
       "      <td>26.0</td>\n",
       "      <td>0</td>\n",
       "      <td>0</td>\n",
       "      <td>30.00</td>\n",
       "      <td>C</td>\n",
       "      <td>Mr.</td>\n",
       "    </tr>\n",
       "    <tr>\n",
       "      <th>890</th>\n",
       "      <td>891</td>\n",
       "      <td>0</td>\n",
       "      <td>3</td>\n",
       "      <td>male</td>\n",
       "      <td>32.0</td>\n",
       "      <td>0</td>\n",
       "      <td>0</td>\n",
       "      <td>7.75</td>\n",
       "      <td>Q</td>\n",
       "      <td>Mr.</td>\n",
       "    </tr>\n",
       "  </tbody>\n",
       "</table>\n",
       "</div>"
      ],
      "text/plain": [
       "     PassengerId  Survived  Pclass     Sex   Age  SibSp  Parch   Fare  \\\n",
       "886          887         0       2    male  27.0      0      0  13.00   \n",
       "887          888         1       1  female  19.0      0      0  30.00   \n",
       "888          889         0       3  female  17.0      1      2  23.45   \n",
       "889          890         1       1    male  26.0      0      0  30.00   \n",
       "890          891         0       3    male  32.0      0      0   7.75   \n",
       "\n",
       "    Embarked  title  \n",
       "886        S   Rev.  \n",
       "887        S  Miss.  \n",
       "888        S  Miss.  \n",
       "889        C    Mr.  \n",
       "890        Q    Mr.  "
      ]
     },
     "execution_count": 12,
     "metadata": {},
     "output_type": "execute_result"
    }
   ],
   "source": [
    "#Drop columns Name, Cabin, ticket\n",
    "df_titanic_train.drop('Name', 1, inplace=True)\n",
    "df_titanic_train.drop('Cabin', 1, inplace=True)\n",
    "df_titanic_train.drop('Ticket', 1, inplace=True)\n",
    "df_titanic_train = df_titanic_train[pd.notnull(df_titanic_train['Embarked'])]\n",
    "print(df_titanic_train.values.shape)\n",
    "\n",
    "#Same for test set\n",
    "df_titanic_test.drop('Name', 1, inplace=True)\n",
    "df_titanic_test.drop('Cabin', 1, inplace=True)\n",
    "df_titanic_test.drop('Ticket', 1, inplace=True)\n",
    "\n",
    "df_titanic_train.tail()"
   ]
  },
  {
   "cell_type": "code",
   "execution_count": 13,
   "metadata": {
    "collapsed": false
   },
   "outputs": [
    {
     "name": "stdout",
     "output_type": "stream",
     "text": [
      "Classes for Sex: [311 575]\n",
      "Classes for Embarked: [165  77 644]\n",
      "Classes for Title: [  2   7   2  40 184 516 125   6   4]\n"
     ]
    }
   ],
   "source": [
    "#Transform sex variable to classes\n",
    "LE = LabelEncoder()\n",
    "df_titanic_train['Sex'] = LE.fit_transform(df_titanic_train['Sex']) \n",
    "print 'Classes for Sex:', np.bincount(df_titanic_train['Sex'].values)\n",
    "df_titanic_test['Sex'] = LE.transform(df_titanic_test['Sex'])\n",
    "\n",
    "#Transform Embarked variable to classes\n",
    "LE2 =LabelEncoder()\n",
    "df_titanic_train['Embarked'] = LE2.fit_transform(df_titanic_train['Embarked'])\n",
    "print 'Classes for Embarked:', np.bincount(df_titanic_train['Embarked'].values)\n",
    "df_titanic_test['Embarked'] = LE2.transform(df_titanic_test['Embarked'])\n",
    "\n",
    "#Transform Title variable to classes\n",
    "LE3 =LabelEncoder()\n",
    "df_titanic_train['title'] = LE2.fit_transform(df_titanic_train['title'])\n",
    "print 'Classes for Title:', np.bincount(df_titanic_train['title'].values)\n",
    "df_titanic_test['title'] = LE2.transform(df_titanic_test['title'])"
   ]
  },
  {
   "cell_type": "code",
   "execution_count": 14,
   "metadata": {
    "collapsed": false
   },
   "outputs": [
    {
     "data": {
      "text/html": [
       "<div>\n",
       "<table border=\"1\" class=\"dataframe\">\n",
       "  <thead>\n",
       "    <tr style=\"text-align: right;\">\n",
       "      <th></th>\n",
       "      <th>PassengerId</th>\n",
       "      <th>Survived</th>\n",
       "      <th>Pclass</th>\n",
       "      <th>Sex</th>\n",
       "      <th>Age</th>\n",
       "      <th>SibSp</th>\n",
       "      <th>Parch</th>\n",
       "      <th>Fare</th>\n",
       "      <th>Embarked</th>\n",
       "      <th>title</th>\n",
       "    </tr>\n",
       "  </thead>\n",
       "  <tbody>\n",
       "    <tr>\n",
       "      <th>0</th>\n",
       "      <td>1</td>\n",
       "      <td>0</td>\n",
       "      <td>3</td>\n",
       "      <td>1</td>\n",
       "      <td>22.0</td>\n",
       "      <td>1</td>\n",
       "      <td>0</td>\n",
       "      <td>7.2500</td>\n",
       "      <td>2</td>\n",
       "      <td>5</td>\n",
       "    </tr>\n",
       "    <tr>\n",
       "      <th>1</th>\n",
       "      <td>2</td>\n",
       "      <td>1</td>\n",
       "      <td>1</td>\n",
       "      <td>0</td>\n",
       "      <td>38.0</td>\n",
       "      <td>1</td>\n",
       "      <td>0</td>\n",
       "      <td>71.2833</td>\n",
       "      <td>0</td>\n",
       "      <td>6</td>\n",
       "    </tr>\n",
       "    <tr>\n",
       "      <th>2</th>\n",
       "      <td>3</td>\n",
       "      <td>1</td>\n",
       "      <td>3</td>\n",
       "      <td>0</td>\n",
       "      <td>26.0</td>\n",
       "      <td>0</td>\n",
       "      <td>0</td>\n",
       "      <td>7.9250</td>\n",
       "      <td>2</td>\n",
       "      <td>4</td>\n",
       "    </tr>\n",
       "    <tr>\n",
       "      <th>3</th>\n",
       "      <td>4</td>\n",
       "      <td>1</td>\n",
       "      <td>1</td>\n",
       "      <td>0</td>\n",
       "      <td>35.0</td>\n",
       "      <td>1</td>\n",
       "      <td>0</td>\n",
       "      <td>53.1000</td>\n",
       "      <td>2</td>\n",
       "      <td>6</td>\n",
       "    </tr>\n",
       "    <tr>\n",
       "      <th>4</th>\n",
       "      <td>5</td>\n",
       "      <td>0</td>\n",
       "      <td>3</td>\n",
       "      <td>1</td>\n",
       "      <td>35.0</td>\n",
       "      <td>0</td>\n",
       "      <td>0</td>\n",
       "      <td>8.0500</td>\n",
       "      <td>2</td>\n",
       "      <td>5</td>\n",
       "    </tr>\n",
       "  </tbody>\n",
       "</table>\n",
       "</div>"
      ],
      "text/plain": [
       "   PassengerId  Survived  Pclass  Sex   Age  SibSp  Parch     Fare  Embarked  \\\n",
       "0            1         0       3    1  22.0      1      0   7.2500         2   \n",
       "1            2         1       1    0  38.0      1      0  71.2833         0   \n",
       "2            3         1       3    0  26.0      0      0   7.9250         2   \n",
       "3            4         1       1    0  35.0      1      0  53.1000         2   \n",
       "4            5         0       3    1  35.0      0      0   8.0500         2   \n",
       "\n",
       "   title  \n",
       "0      5  \n",
       "1      6  \n",
       "2      4  \n",
       "3      6  \n",
       "4      5  "
      ]
     },
     "execution_count": 14,
     "metadata": {},
     "output_type": "execute_result"
    }
   ],
   "source": [
    "df_titanic_train.head()"
   ]
  },
  {
   "cell_type": "markdown",
   "metadata": {},
   "source": [
    "#### One Hot encoding and standarization"
   ]
  },
  {
   "cell_type": "code",
   "execution_count": 15,
   "metadata": {
    "collapsed": false
   },
   "outputs": [],
   "source": [
    "X = df_titanic_train.iloc[:,2:].values\n",
    "y = df_titanic_train.iloc[:,1].values\n",
    "X_sub = df_titanic_test.iloc[:,1:].values\n",
    "\n",
    "#One hot encoding of all variables but Fare and age\n",
    "#In test data there are values that are not present in the training set (Parch=9)\n",
    "\n",
    "ohe = OneHotEncoder(categorical_features=[0, 1, 3, 4, 6, 7])\n",
    "X_sub_ohe = ohe.fit_transform(X_sub).toarray()\n",
    "X_ohe = ohe.transform(X).toarray()\n",
    "\n",
    "\n",
    "#Standarize features\n",
    "sc1 = StandardScaler()\n",
    "sc2 = StandardScaler()\n",
    "X_ohe[:,-1] = sc1.fit_transform(X_ohe[:,-1].reshape(-1,1)).ravel()\n",
    "X_ohe[:,-2] = sc2.fit_transform(X_ohe[:,-2].reshape(-1,1)).ravel()\n",
    "\n",
    "X_sub_ohe[:,-1] = sc1.transform(X_sub_ohe[:,-1].reshape(-1,1)).ravel()\n",
    "X_sub_ohe[:,-2] = sc2.transform(X_sub_ohe[:,-2].reshape(-1,1)).ravel()"
   ]
  },
  {
   "cell_type": "code",
   "execution_count": 17,
   "metadata": {
    "collapsed": false
   },
   "outputs": [],
   "source": [
    "#Separate training set in training and validation\n",
    "\n",
    "X_train, X_test, y_train, y_test = train_test_split(X_ohe, y, test_size=0.2, random_state=1)\n"
   ]
  },
  {
   "cell_type": "markdown",
   "metadata": {},
   "source": [
    "#### Validation and learning curves"
   ]
  },
  {
   "cell_type": "code",
   "execution_count": 18,
   "metadata": {
    "collapsed": true
   },
   "outputs": [],
   "source": [
    "def validation_curve_plot(param, param_range, train_scores, test_scores, log=False):\n",
    "    train_mean=np.mean(train_scores, axis=1)\n",
    "    train_std=np.std(train_scores, axis=1)\n",
    "    test_mean=np.mean(test_scores, axis=1)\n",
    "    test_std=np.std(test_scores, axis=1)\n",
    "    %matplotlib inline\n",
    "    plt.plot(param_range, train_mean, label='Training accuracy')\n",
    "    plt.fill_between(param_range, train_mean - train_std, train_mean +train_std, color='blue', alpha=0.5)\n",
    "    plt.plot(param_range, test_mean, label='validation accuracy')\n",
    "    plt.fill_between(param_range, test_mean - test_std, test_mean +test_std, color='green', alpha=0.5)\n",
    "    plt.legend(loc='lower right')\n",
    "    plt.title('Validation curve')\n",
    "    plt.grid()\n",
    "    plt.xlabel(param)\n",
    "    plt.ylabel('CV Accuracy')\n",
    "    if log:\n",
    "        plt.xscale('log')\n",
    "    plt.show()\n",
    "\n",
    "def learning_curve_plot(train_sizes, train_scores, test_scores):\n",
    "    train_mean=np.mean(train_scores, axis=1)\n",
    "    train_std=np.std(train_scores, axis=1)\n",
    "    test_mean=np.mean(test_scores, axis=1)\n",
    "    test_std=np.std(test_scores, axis=1)\n",
    "    %matplotlib inline\n",
    "    plt.plot(train_sizes, train_mean, label='training accuracy')\n",
    "    plt.fill_between(train_sizes, train_mean - train_std, train_mean +train_std, color='blue', alpha=0.5)\n",
    "    plt.plot(train_sizes, test_mean, label='validation accuracy')\n",
    "    plt.fill_between(train_sizes, test_mean - test_std, test_mean +test_std, color='green', alpha=0.5)\n",
    "    plt.title('Learning curve')\n",
    "    plt.grid()\n",
    "    plt.legend(loc='lower right')\n",
    "    plt.xlabel('Training Samples')\n",
    "    plt.ylabel('CV Accuracy')\n",
    "    plt.show()\n"
   ]
  },
  {
   "cell_type": "markdown",
   "metadata": {},
   "source": [
    "### ML algorithms"
   ]
  },
  {
   "cell_type": "markdown",
   "metadata": {},
   "source": [
    "#### LOGISTIC REGRESSION"
   ]
  },
  {
   "cell_type": "code",
   "execution_count": 59,
   "metadata": {
    "collapsed": false
   },
   "outputs": [
    {
     "name": "stdout",
     "output_type": "stream",
     "text": [
      "Train accuracy: 0.838\n",
      "Test accuracy: 0.826\n",
      "ROC AUC: 0.86 +/- 0.04\n"
     ]
    }
   ],
   "source": [
    "log_reg = LogisticRegression(C=1, solver='liblinear', penalty='l1')\n",
    "log_reg.fit(X_train, y_train)\n",
    "print('Train accuracy: %.3f' % (log_reg.score(X_train, y_train)))\n",
    "print('Test accuracy: %.3f' % (log_reg.score(X_test, y_test)))\n",
    "y_pred_test = log_reg.predict(X_test)\n",
    "scores = cross_val_score(estimator=log_reg, X=X_train, y=y_train, cv=10, scoring='roc_auc')\n",
    "print('ROC AUC: %0.2f +/- %0.2f' % (scores.mean(), scores.std()))\n"
   ]
  },
  {
   "cell_type": "code",
   "execution_count": 54,
   "metadata": {
    "collapsed": false
   },
   "outputs": [
    {
     "data": {
      "image/png": "[encoded data removed]",
      "text/plain": [
       "<matplotlib.figure.Figure at 0x7f2b81183910>"
      ]
     },
     "metadata": {},
     "output_type": "display_data"
    },
    {
     "data": {
      "image/png": "[encoded data removed]",
      "text/plain": [
       "<matplotlib.figure.Figure at 0x7f2b81324c10>"
      ]
     },
     "metadata": {},
     "output_type": "display_data"
    }
   ],
   "source": [
    "param_range=[0.0001, 0.001, 0.01, 0.1, 1, 10, 100, 1000, 10000]\n",
    "train_scores, test_scores = validation_curve(estimator=log_reg, X=X_train, y=y_train,\n",
    "                                             param_name='C', param_range=param_range, cv=10)\n",
    "validation_curve_plot('C', param_range, train_scores, test_scores, log=True)\n",
    "\n",
    "train_sizes=np.linspace(.1, 1.0, 10)\n",
    "train_sizes, train_scores, test_scores = learning_curve(estimator=log_reg, X=X_train, y=y_train, cv=5, train_sizes=train_sizes)\n",
    "learning_curve_plot( train_sizes, train_scores, test_scores )"
   ]
  },
  {
   "cell_type": "markdown",
   "metadata": {},
   "source": [
    "#### K NEIGHREST NEIGHBORS"
   ]
  },
  {
   "cell_type": "code",
   "execution_count": 99,
   "metadata": {
    "collapsed": false
   },
   "outputs": [
    {
     "name": "stdout",
     "output_type": "stream",
     "text": [
      "Train Accuracy 0.845\n",
      "Test Accuracy 0.848\n",
      "ROC AUC: 0.81 +/- 0.05\n"
     ]
    }
   ],
   "source": [
    "from sklearn.neighbors import KNeighborsClassifier\n",
    "\n",
    "knn = KNeighborsClassifier(n_neighbors=10, p=1, metric='minkowski')\n",
    "knn.fit(X_train, y_train)\n",
    "y_pred_test = knn.predict(X_test)\n",
    "y_pred_train = knn.predict(X_train)\n",
    "acc = accuracy_score(y_pred_test, y_test)\n",
    "acc2 = accuracy_score(y_pred_train, y_train)\n",
    "\n",
    "print('Train Accuracy %.3f' % acc2)\n",
    "print('Test Accuracy %.3f' % acc)\n",
    "scores = cross_val_score(estimator=knn, X=X_train, y=y_train, cv=10, scoring='accuracy')\n",
    "print('ROC AUC: %0.2f +/- %0.2f' % (scores.mean(), scores.std()))"
   ]
  },
  {
   "cell_type": "code",
   "execution_count": 22,
   "metadata": {
    "collapsed": false,
    "scrolled": true
   },
   "outputs": [
    {
     "data": {
      "image/png": "[encoded data removed]",
      "text/plain": [
       "<matplotlib.figure.Figure at 0x7f2b8139ad90>"
      ]
     },
     "metadata": {},
     "output_type": "display_data"
    },
    {
     "data": {
      "image/png": "[encoded data removed]",
      "text/plain": [
       "<matplotlib.figure.Figure at 0x7f2b811e8e10>"
      ]
     },
     "metadata": {},
     "output_type": "display_data"
    }
   ],
   "source": [
    "param_range=xrange(1,40)\n",
    "train_scores, test_scores = validation_curve(estimator=knn, X=X_train, y=y_train,\n",
    "                                             param_name='n_neighbors', param_range=param_range, cv=5)\n",
    "validation_curve_plot('n_neighbors', param_range, train_scores, test_scores)\n",
    "\n",
    "train_sizes=np.linspace(.1, 1.0, 10)\n",
    "train_sizes, train_scores, test_scores = learning_curve(estimator=knn, X=X_train, y=y_train, cv=5, train_sizes=train_sizes)\n",
    "learning_curve_plot(train_sizes, train_scores, test_scores)\n",
    "\n"
   ]
  },
  {
   "cell_type": "markdown",
   "metadata": {},
   "source": [
    "#### RANDOM FORESTS"
   ]
  },
  {
   "cell_type": "code",
   "execution_count": 51,
   "metadata": {
    "collapsed": false
   },
   "outputs": [
    {
     "name": "stdout",
     "output_type": "stream",
     "text": [
      "Train Accuracy 0.860\n",
      "Test Accuracy 0.860\n",
      "ROC AUC: 0.86 +/- 0.04\n"
     ]
    }
   ],
   "source": [
    "forest = RandomForestClassifier(random_state = 2, n_estimators = 23, max_depth=6)\n",
    "forest.fit(X_train, y_train)\n",
    "y_pred_test = forest.predict(X_test)\n",
    "y_pred_train = forest.predict(X_train)\n",
    "acc = accuracy_score(y_pred_test, y_test)\n",
    "acc2 = accuracy_score(y_pred_train, y_train)\n",
    "\n",
    "print('Train Accuracy %.3f' % acc2)\n",
    "print('Test Accuracy %.3f' % acc)\n",
    "scores = cross_val_score(estimator=forest, X=X_train, y=y_train, cv=10, scoring='roc_auc')\n",
    "print('ROC AUC: %0.2f +/- %0.2f' % (scores.mean(), scores.std()))"
   ]
  },
  {
   "cell_type": "code",
   "execution_count": 28,
   "metadata": {
    "collapsed": false
   },
   "outputs": [
    {
     "data": {
      "image/png": "[encoded data removed]",
      "text/plain": [
       "<matplotlib.figure.Figure at 0x7f2b81d2ecd0>"
      ]
     },
     "metadata": {},
     "output_type": "display_data"
    },
    {
     "data": {
      "image/png": "[encoded data removed]",
      "text/plain": [
       "<matplotlib.figure.Figure at 0x7f2b8175db10>"
      ]
     },
     "metadata": {},
     "output_type": "display_data"
    }
   ],
   "source": [
    "param_range=xrange(1,30)\n",
    "train_scores, test_scores = validation_curve(estimator=forest, X=X_train, y=y_train,\n",
    "                                             param_name='n_estimators', param_range=param_range, cv=5)\n",
    "validation_curve_plot('n_estimators', param_range, train_scores, test_scores)\n",
    "\n",
    "train_sizes=np.linspace(.1, 1.0, 10)\n",
    "train_sizes, train_scores, test_scores = learning_curve(estimator=forest, X=X_train, y=y_train, cv=5, train_sizes=train_sizes)\n",
    "learning_curve_plot(train_sizes, train_scores, test_scores)\n"
   ]
  },
  {
   "cell_type": "markdown",
   "metadata": {},
   "source": [
    "#### Ensemble"
   ]
  },
  {
   "cell_type": "code",
   "execution_count": 98,
   "metadata": {
    "collapsed": false
   },
   "outputs": [
    {
     "name": "stdout",
     "output_type": "stream",
     "text": [
      "Accuracy: 0.82 +/- 0.05\n"
     ]
    }
   ],
   "source": [
    "from sklearn.base import BaseEstimator\n",
    "from sklearn.base import ClassifierMixin\n",
    "from sklearn.preprocessing import LabelEncoder\n",
    "from sklearn.externals import six\n",
    "from sklearn.base import clone\n",
    "from sklearn.pipeline import _name_estimators\n",
    "import operator\n",
    "\n",
    "class  Ensemble(BaseEstimator, ClassifierMixin):\n",
    "    def __init__(self, classifiers, vote='classlabel', weights=None):\n",
    "        self.classifiers = classifiers\n",
    "        self.named_classifiers = {key: value for key, value in _name_estimators(classifiers)}\n",
    "        self.vote = vote\n",
    "        self.weights = weights\n",
    "    def fit(self, X, y):\n",
    "        self.lablenc_ = LabelEncoder()\n",
    "        self.lablenc_.fit(y)\n",
    "        self.classes_ =self.lablenc_.classes_\n",
    "        self.classifiers_ = []\n",
    "        for clf in self.classifiers:\n",
    "            fitted_clf = clone(clf).fit(X, self.lablenc_.transform(y))\n",
    "            self.classifiers_.append(fitted_clf)\n",
    "        return self\n",
    "    def predict(self, X):\n",
    "        if self.vote == 'probability':\n",
    "            maj_vote = np.argmax(seld.predict_proba(X), axis=1)\n",
    "        else:\n",
    "            predictions = np.asarray([clf.predict(X) for clf in self.classifiers_]).T\n",
    "            maj_vote = np.apply_along_axis(lambda x: np.argmax(np.bincount(x, weights=self.weights)), axis=1, arr=predictions)\n",
    "            maj_vote =self.lablenc_.inverse_transform(maj_vote)\n",
    "            return maj_vote\n",
    "    \n",
    "    def predict_proba(self, X):\n",
    "        probas = np.asarray([clf.predict_proba(X) for clf in self.classifiers_])\n",
    "        avg_proba = np.average(probas, axis=0, weights=self.weights)\n",
    "        return avg_proba\n",
    "    \n",
    "    def get_params(self, deep=True):\n",
    "        if not deep:\n",
    "            return super(Ensemble, self).get_params(deep=False)\n",
    "        else:\n",
    "            out = self.named_classifiers.copy()\n",
    "            for name, step in six.iteritems(self.named_classifiers):\n",
    "                for key, value in six.iteritems(step.get_params(deep=True)):\n",
    "                    out['%s__%s' % (name, key)] = value\n",
    "            return out\n",
    "\n",
    "ens = Ensemble(classifiers=[knn, forest, log_reg])\n",
    "scores = cross_val_score(estimator=ens, X=X_train, y=y_train, cv=10, scoring='accuracy')\n",
    "print('Accuracy: %0.2f +/- %0.2f' % (scores.mean(), scores.std()))"
   ]
  },
  {
   "cell_type": "markdown",
   "metadata": {},
   "source": [
    "### Reciever Operating Characteristic"
   ]
  },
  {
   "cell_type": "code",
   "execution_count": 33,
   "metadata": {
    "collapsed": false
   },
   "outputs": [
    {
     "data": {
      "image/png": "[encoded data removed]",
      "text/plain": [
       "<matplotlib.figure.Figure at 0x7f2b813279d0>"
      ]
     },
     "metadata": {},
     "output_type": "display_data"
    }
   ],
   "source": [
    "from sklearn.metrics import roc_curve\n",
    "from sklearn.metrics import auc\n",
    "\n",
    "all_clf = [log_reg, knn,forest, ens]\n",
    "clf_labels = ['log reg', 'knn','forest', 'ensemble']\n",
    "colors = ['blue', 'green','yellow', 'red']\n",
    "linestyles =[':', '--', '-.', '-']\n",
    "\n",
    "for clf, label, clr, ls in zip(all_clf, clf_labels, colors, linestyles):\n",
    "    y_pred = clf.fit(X_train, y_train).predict_proba(X_test)[:, 1]\n",
    "    fpr, tpr, threshold = roc_curve(y_true=y_test, y_score=y_pred)\n",
    "    roc_auc = auc(x=fpr, y=tpr)\n",
    "    plt.plot(fpr, tpr, color=clr, linestyle=ls, label='%s(auc=%0.2f)' % (label, roc_auc))\n",
    "\n",
    "\n",
    "plt.plot([0, 1], [0, 1], linestyle='--', c='black')\n",
    "plt.xlim([-0.1, 1.1])\n",
    "plt.ylim([-0.1, 1.1])\n",
    "plt.grid()\n",
    "plt.xlabel('False positive rate')\n",
    "plt.ylabel('True positive rate')\n",
    "plt.title('Receiver Operating Characteristic')\n",
    "plt.legend(loc='lower right')\n",
    "plt.show()"
   ]
  },
  {
   "cell_type": "markdown",
   "metadata": {},
   "source": [
    "#### Train with all data"
   ]
  },
  {
   "cell_type": "code",
   "execution_count": 36,
   "metadata": {
    "collapsed": false
   },
   "outputs": [
    {
     "name": "stdout",
     "output_type": "stream",
     "text": [
      "accuracy: 0.83 +/- 0.04\n"
     ]
    }
   ],
   "source": [
    "ens.fit(X_ohe, y)\n",
    "scores = cross_val_score(estimator=ens, X=X_ohe, y=y, cv=10, scoring='accuracy')\n",
    "print('accuracy: %0.2f +/- %0.2f' % (scores.mean(), scores.std()))"
   ]
  },
  {
   "cell_type": "code",
   "execution_count": 37,
   "metadata": {
    "collapsed": false
   },
   "outputs": [],
   "source": [
    "#Submission\n",
    "sub_predict = ens.predict(X_sub_ohe)\n",
    "\n",
    "submission = pd.DataFrame({\n",
    "        \"PassengerId\": df_titanic_test[\"PassengerId\"],\n",
    "        \"Survived\": sub_predict\n",
    "    })\n",
    "submission.to_csv('titanic.csv', index=False)"
   ]
  },
  {
   "cell_type": "code",
   "execution_count": 38,
   "metadata": {
    "collapsed": false,
    "scrolled": true
   },
   "outputs": [
    {
     "data": {
      "text/html": [
       "<div>\n",
       "<table border=\"1\" class=\"dataframe\">\n",
       "  <thead>\n",
       "    <tr style=\"text-align: right;\">\n",
       "      <th></th>\n",
       "      <th>PassengerId</th>\n",
       "      <th>Survived</th>\n",
       "    </tr>\n",
       "  </thead>\n",
       "  <tbody>\n",
       "    <tr>\n",
       "      <th>0</th>\n",
       "      <td>892</td>\n",
       "      <td>0</td>\n",
       "    </tr>\n",
       "    <tr>\n",
       "      <th>1</th>\n",
       "      <td>893</td>\n",
       "      <td>0</td>\n",
       "    </tr>\n",
       "    <tr>\n",
       "      <th>2</th>\n",
       "      <td>894</td>\n",
       "      <td>0</td>\n",
       "    </tr>\n",
       "    <tr>\n",
       "      <th>3</th>\n",
       "      <td>895</td>\n",
       "      <td>0</td>\n",
       "    </tr>\n",
       "    <tr>\n",
       "      <th>4</th>\n",
       "      <td>896</td>\n",
       "      <td>0</td>\n",
       "    </tr>\n",
       "    <tr>\n",
       "      <th>5</th>\n",
       "      <td>897</td>\n",
       "      <td>0</td>\n",
       "    </tr>\n",
       "    <tr>\n",
       "      <th>6</th>\n",
       "      <td>898</td>\n",
       "      <td>1</td>\n",
       "    </tr>\n",
       "    <tr>\n",
       "      <th>7</th>\n",
       "      <td>899</td>\n",
       "      <td>0</td>\n",
       "    </tr>\n",
       "    <tr>\n",
       "      <th>8</th>\n",
       "      <td>900</td>\n",
       "      <td>1</td>\n",
       "    </tr>\n",
       "    <tr>\n",
       "      <th>9</th>\n",
       "      <td>901</td>\n",
       "      <td>0</td>\n",
       "    </tr>\n",
       "    <tr>\n",
       "      <th>10</th>\n",
       "      <td>902</td>\n",
       "      <td>0</td>\n",
       "    </tr>\n",
       "    <tr>\n",
       "      <th>11</th>\n",
       "      <td>903</td>\n",
       "      <td>0</td>\n",
       "    </tr>\n",
       "    <tr>\n",
       "      <th>12</th>\n",
       "      <td>904</td>\n",
       "      <td>1</td>\n",
       "    </tr>\n",
       "    <tr>\n",
       "      <th>13</th>\n",
       "      <td>905</td>\n",
       "      <td>0</td>\n",
       "    </tr>\n",
       "    <tr>\n",
       "      <th>14</th>\n",
       "      <td>906</td>\n",
       "      <td>1</td>\n",
       "    </tr>\n",
       "    <tr>\n",
       "      <th>15</th>\n",
       "      <td>907</td>\n",
       "      <td>1</td>\n",
       "    </tr>\n",
       "    <tr>\n",
       "      <th>16</th>\n",
       "      <td>908</td>\n",
       "      <td>0</td>\n",
       "    </tr>\n",
       "    <tr>\n",
       "      <th>17</th>\n",
       "      <td>909</td>\n",
       "      <td>0</td>\n",
       "    </tr>\n",
       "    <tr>\n",
       "      <th>18</th>\n",
       "      <td>910</td>\n",
       "      <td>0</td>\n",
       "    </tr>\n",
       "    <tr>\n",
       "      <th>19</th>\n",
       "      <td>911</td>\n",
       "      <td>1</td>\n",
       "    </tr>\n",
       "    <tr>\n",
       "      <th>20</th>\n",
       "      <td>912</td>\n",
       "      <td>0</td>\n",
       "    </tr>\n",
       "    <tr>\n",
       "      <th>21</th>\n",
       "      <td>913</td>\n",
       "      <td>1</td>\n",
       "    </tr>\n",
       "    <tr>\n",
       "      <th>22</th>\n",
       "      <td>914</td>\n",
       "      <td>1</td>\n",
       "    </tr>\n",
       "    <tr>\n",
       "      <th>23</th>\n",
       "      <td>915</td>\n",
       "      <td>0</td>\n",
       "    </tr>\n",
       "    <tr>\n",
       "      <th>24</th>\n",
       "      <td>916</td>\n",
       "      <td>1</td>\n",
       "    </tr>\n",
       "    <tr>\n",
       "      <th>25</th>\n",
       "      <td>917</td>\n",
       "      <td>0</td>\n",
       "    </tr>\n",
       "    <tr>\n",
       "      <th>26</th>\n",
       "      <td>918</td>\n",
       "      <td>1</td>\n",
       "    </tr>\n",
       "    <tr>\n",
       "      <th>27</th>\n",
       "      <td>919</td>\n",
       "      <td>0</td>\n",
       "    </tr>\n",
       "    <tr>\n",
       "      <th>28</th>\n",
       "      <td>920</td>\n",
       "      <td>0</td>\n",
       "    </tr>\n",
       "    <tr>\n",
       "      <th>29</th>\n",
       "      <td>921</td>\n",
       "      <td>0</td>\n",
       "    </tr>\n",
       "    <tr>\n",
       "      <th>...</th>\n",
       "      <td>...</td>\n",
       "      <td>...</td>\n",
       "    </tr>\n",
       "    <tr>\n",
       "      <th>388</th>\n",
       "      <td>1280</td>\n",
       "      <td>0</td>\n",
       "    </tr>\n",
       "    <tr>\n",
       "      <th>389</th>\n",
       "      <td>1281</td>\n",
       "      <td>0</td>\n",
       "    </tr>\n",
       "    <tr>\n",
       "      <th>390</th>\n",
       "      <td>1282</td>\n",
       "      <td>0</td>\n",
       "    </tr>\n",
       "    <tr>\n",
       "      <th>391</th>\n",
       "      <td>1283</td>\n",
       "      <td>1</td>\n",
       "    </tr>\n",
       "    <tr>\n",
       "      <th>392</th>\n",
       "      <td>1284</td>\n",
       "      <td>0</td>\n",
       "    </tr>\n",
       "    <tr>\n",
       "      <th>393</th>\n",
       "      <td>1285</td>\n",
       "      <td>0</td>\n",
       "    </tr>\n",
       "    <tr>\n",
       "      <th>394</th>\n",
       "      <td>1286</td>\n",
       "      <td>0</td>\n",
       "    </tr>\n",
       "    <tr>\n",
       "      <th>395</th>\n",
       "      <td>1287</td>\n",
       "      <td>1</td>\n",
       "    </tr>\n",
       "    <tr>\n",
       "      <th>396</th>\n",
       "      <td>1288</td>\n",
       "      <td>0</td>\n",
       "    </tr>\n",
       "    <tr>\n",
       "      <th>397</th>\n",
       "      <td>1289</td>\n",
       "      <td>1</td>\n",
       "    </tr>\n",
       "    <tr>\n",
       "      <th>398</th>\n",
       "      <td>1290</td>\n",
       "      <td>0</td>\n",
       "    </tr>\n",
       "    <tr>\n",
       "      <th>399</th>\n",
       "      <td>1291</td>\n",
       "      <td>0</td>\n",
       "    </tr>\n",
       "    <tr>\n",
       "      <th>400</th>\n",
       "      <td>1292</td>\n",
       "      <td>1</td>\n",
       "    </tr>\n",
       "    <tr>\n",
       "      <th>401</th>\n",
       "      <td>1293</td>\n",
       "      <td>0</td>\n",
       "    </tr>\n",
       "    <tr>\n",
       "      <th>402</th>\n",
       "      <td>1294</td>\n",
       "      <td>1</td>\n",
       "    </tr>\n",
       "    <tr>\n",
       "      <th>403</th>\n",
       "      <td>1295</td>\n",
       "      <td>0</td>\n",
       "    </tr>\n",
       "    <tr>\n",
       "      <th>404</th>\n",
       "      <td>1296</td>\n",
       "      <td>0</td>\n",
       "    </tr>\n",
       "    <tr>\n",
       "      <th>405</th>\n",
       "      <td>1297</td>\n",
       "      <td>0</td>\n",
       "    </tr>\n",
       "    <tr>\n",
       "      <th>406</th>\n",
       "      <td>1298</td>\n",
       "      <td>0</td>\n",
       "    </tr>\n",
       "    <tr>\n",
       "      <th>407</th>\n",
       "      <td>1299</td>\n",
       "      <td>0</td>\n",
       "    </tr>\n",
       "    <tr>\n",
       "      <th>408</th>\n",
       "      <td>1300</td>\n",
       "      <td>1</td>\n",
       "    </tr>\n",
       "    <tr>\n",
       "      <th>409</th>\n",
       "      <td>1301</td>\n",
       "      <td>0</td>\n",
       "    </tr>\n",
       "    <tr>\n",
       "      <th>410</th>\n",
       "      <td>1302</td>\n",
       "      <td>1</td>\n",
       "    </tr>\n",
       "    <tr>\n",
       "      <th>411</th>\n",
       "      <td>1303</td>\n",
       "      <td>1</td>\n",
       "    </tr>\n",
       "    <tr>\n",
       "      <th>412</th>\n",
       "      <td>1304</td>\n",
       "      <td>1</td>\n",
       "    </tr>\n",
       "    <tr>\n",
       "      <th>413</th>\n",
       "      <td>1305</td>\n",
       "      <td>0</td>\n",
       "    </tr>\n",
       "    <tr>\n",
       "      <th>414</th>\n",
       "      <td>1306</td>\n",
       "      <td>1</td>\n",
       "    </tr>\n",
       "    <tr>\n",
       "      <th>415</th>\n",
       "      <td>1307</td>\n",
       "      <td>0</td>\n",
       "    </tr>\n",
       "    <tr>\n",
       "      <th>416</th>\n",
       "      <td>1308</td>\n",
       "      <td>0</td>\n",
       "    </tr>\n",
       "    <tr>\n",
       "      <th>417</th>\n",
       "      <td>1309</td>\n",
       "      <td>1</td>\n",
       "    </tr>\n",
       "  </tbody>\n",
       "</table>\n",
       "<p>418 rows × 2 columns</p>\n",
       "</div>"
      ],
      "text/plain": [
       "     PassengerId  Survived\n",
       "0            892         0\n",
       "1            893         0\n",
       "2            894         0\n",
       "3            895         0\n",
       "4            896         0\n",
       "5            897         0\n",
       "6            898         1\n",
       "7            899         0\n",
       "8            900         1\n",
       "9            901         0\n",
       "10           902         0\n",
       "11           903         0\n",
       "12           904         1\n",
       "13           905         0\n",
       "14           906         1\n",
       "15           907         1\n",
       "16           908         0\n",
       "17           909         0\n",
       "18           910         0\n",
       "19           911         1\n",
       "20           912         0\n",
       "21           913         1\n",
       "22           914         1\n",
       "23           915         0\n",
       "24           916         1\n",
       "25           917         0\n",
       "26           918         1\n",
       "27           919         0\n",
       "28           920         0\n",
       "29           921         0\n",
       "..           ...       ...\n",
       "388         1280         0\n",
       "389         1281         0\n",
       "390         1282         0\n",
       "391         1283         1\n",
       "392         1284         0\n",
       "393         1285         0\n",
       "394         1286         0\n",
       "395         1287         1\n",
       "396         1288         0\n",
       "397         1289         1\n",
       "398         1290         0\n",
       "399         1291         0\n",
       "400         1292         1\n",
       "401         1293         0\n",
       "402         1294         1\n",
       "403         1295         0\n",
       "404         1296         0\n",
       "405         1297         0\n",
       "406         1298         0\n",
       "407         1299         0\n",
       "408         1300         1\n",
       "409         1301         0\n",
       "410         1302         1\n",
       "411         1303         1\n",
       "412         1304         1\n",
       "413         1305         0\n",
       "414         1306         1\n",
       "415         1307         0\n",
       "416         1308         0\n",
       "417         1309         1\n",
       "\n",
       "[418 rows x 2 columns]"
      ]
     },
     "execution_count": 38,
     "metadata": {},
     "output_type": "execute_result"
    }
   ],
   "source": [
    "submission"
   ]
  },
  {
   "cell_type": "markdown",
   "metadata": {},
   "source": [
    "#### Jack Dawson prediction: 20 years old, third class, boarded in Southampton"
   ]
  },
  {
   "cell_type": "code",
   "execution_count": 66,
   "metadata": {
    "collapsed": false
   },
   "outputs": [
    {
     "name": "stdout",
     "output_type": "stream",
     "text": [
      "Jack Dawson survival prediction: [0]\n"
     ]
    },
    {
     "name": "stderr",
     "output_type": "stream",
     "text": [
      "/usr/local/lib/python2.7/dist-packages/sklearn/utils/validation.py:386: DeprecationWarning: Passing 1d arrays as data is deprecated in 0.17 and willraise ValueError in 0.19. Reshape your data either using X.reshape(-1, 1) if your data has a single feature or X.reshape(1, -1) if it contains a single sample.\n",
      "  DeprecationWarning)\n"
     ]
    }
   ],
   "source": [
    "#Estimate fare (won ticket  in poker game)\n",
    "df_titanic_3 = df_titanic_train[(df_titanic_train['Pclass']==3)]\n",
    "avg_fare = np.mean(df_titanic_3['Fare'].values)\n",
    "std_fare = np.std(df_titanic_3['Fare'].values)\n",
    "jack_fare = np.random.uniform(avg_fare - std_fare, avg_fare + std_fare) \n",
    "\n",
    "#Transform and predict\n",
    "X_jack = np.asarray([3, 1, 20, 0, 1, jack_fare, 2])\n",
    "X_jack_ohe = ohe.transform(X_jack).toarray()\n",
    "X_jack_ohe[:,-1] = sc.transform(X_jack_ohe[:,-1].reshape(1, -1)).ravel()\n",
    "X_jack_ohe[:,-2] = sc.transform(X_jack_ohe[:,-2].reshape(1, -1)).ravel()\n",
    "print 'Jack Dawson survival prediction (0:did not survive, 1:survived):', ens.predict(X_jack_ohe)"
   ]
  },
  {
   "cell_type": "markdown",
   "metadata": {},
   "source": [
    "#### Rose DeWitt Bukater"
   ]
  },
  {
   "cell_type": "code",
   "execution_count": 54,
   "metadata": {
    "collapsed": false
   },
   "outputs": [
    {
     "name": "stdout",
     "output_type": "stream",
     "text": [
      "Rose DeWitt Bukater survival prediction: [1]\n"
     ]
    },
    {
     "name": "stderr",
     "output_type": "stream",
     "text": [
      "/usr/local/lib/python2.7/dist-packages/sklearn/utils/validation.py:386: DeprecationWarning: Passing 1d arrays as data is deprecated in 0.17 and willraise ValueError in 0.19. Reshape your data either using X.reshape(-1, 1) if your data has a single feature or X.reshape(1, -1) if it contains a single sample.\n",
      "  DeprecationWarning)\n"
     ]
    }
   ],
   "source": [
    "df_titanic_1 = df_titanic_train[(df_titanic_train['Pclass']==1)]\n",
    "avg_fare = np.mean(df_titanic_1['Fare'].values)\n",
    "std_fare = np.std(df_titanic_1['Fare'].values)\n",
    "rose_fare = np.random.uniform(avg_fare - std_fare, avg_fare + std_fare) \n",
    "\n",
    "#Transform and predict\n",
    "X_rose = np.asarray([1, 0, 20, 0, 1, rose_fare, 2])\n",
    "X_rose_ohe = ohe.transform(X_rose).toarray()\n",
    "X_rose_ohe[:,-1] = sc.transform(X_rose_ohe[:,-1].reshape(-1, 1)).ravel()\n",
    "X_rose_ohe[:,-2] = sc.transform(X_rose_ohe[:,-2].reshape(-1, 1)).ravel()\n",
    "print 'Rose DeWitt Bukater survival prediction (0:did not survive, 1:survived):', ens.predict(X_rose_ohe)"
   ]
  }
 ],
 "metadata": {
  "kernelspec": {
   "display_name": "Python 2",
   "language": "python",
   "name": "python2"
  },
  "language_info": {
   "codemirror_mode": {
    "name": "ipython",
    "version": 2
   },
   "file_extension": ".py",
   "mimetype": "text/x-python",
   "name": "python",
   "nbconvert_exporter": "python",
   "pygments_lexer": "ipython2",
   "version": "2.7.6"
  }
 },
 "nbformat": 4,
 "nbformat_minor": 0
}
